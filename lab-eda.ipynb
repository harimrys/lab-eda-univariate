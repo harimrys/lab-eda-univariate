{
 "cells": [
  {
   "cell_type": "code",
   "execution_count": 2,
   "metadata": {},
   "outputs": [],
   "source": [
    "import pandas as pd\n",
    "import matplotlib.pyplot as plt\n",
    "import seaborn as sns\n",
    "import numpy as np\n",
    "\n",
    "datos = \"data/amz_uk_price_prediction_dataset.csv\"\n",
    "df = pd.read_csv(datos)"
   ]
  },
  {
   "cell_type": "code",
   "execution_count": 3,
   "metadata": {},
   "outputs": [
    {
     "data": {
      "text/html": [
       "<div>\n",
       "<style scoped>\n",
       "    .dataframe tbody tr th:only-of-type {\n",
       "        vertical-align: middle;\n",
       "    }\n",
       "\n",
       "    .dataframe tbody tr th {\n",
       "        vertical-align: top;\n",
       "    }\n",
       "\n",
       "    .dataframe thead th {\n",
       "        text-align: right;\n",
       "    }\n",
       "</style>\n",
       "<table border=\"1\" class=\"dataframe\">\n",
       "  <thead>\n",
       "    <tr style=\"text-align: right;\">\n",
       "      <th></th>\n",
       "      <th>uid</th>\n",
       "      <th>asin</th>\n",
       "      <th>title</th>\n",
       "      <th>stars</th>\n",
       "      <th>reviews</th>\n",
       "      <th>price</th>\n",
       "      <th>isBestSeller</th>\n",
       "      <th>boughtInLastMonth</th>\n",
       "      <th>category</th>\n",
       "    </tr>\n",
       "  </thead>\n",
       "  <tbody>\n",
       "    <tr>\n",
       "      <th>0</th>\n",
       "      <td>1</td>\n",
       "      <td>B09B96TG33</td>\n",
       "      <td>Echo Dot (5th generation, 2022 release) | Big ...</td>\n",
       "      <td>4.7</td>\n",
       "      <td>15308</td>\n",
       "      <td>21.99</td>\n",
       "      <td>False</td>\n",
       "      <td>0</td>\n",
       "      <td>Hi-Fi Speakers</td>\n",
       "    </tr>\n",
       "    <tr>\n",
       "      <th>1</th>\n",
       "      <td>2</td>\n",
       "      <td>B01HTH3C8S</td>\n",
       "      <td>Anker Soundcore mini, Super-Portable Bluetooth...</td>\n",
       "      <td>4.7</td>\n",
       "      <td>98099</td>\n",
       "      <td>23.99</td>\n",
       "      <td>True</td>\n",
       "      <td>0</td>\n",
       "      <td>Hi-Fi Speakers</td>\n",
       "    </tr>\n",
       "    <tr>\n",
       "      <th>2</th>\n",
       "      <td>3</td>\n",
       "      <td>B09B8YWXDF</td>\n",
       "      <td>Echo Dot (5th generation, 2022 release) | Big ...</td>\n",
       "      <td>4.7</td>\n",
       "      <td>15308</td>\n",
       "      <td>21.99</td>\n",
       "      <td>False</td>\n",
       "      <td>0</td>\n",
       "      <td>Hi-Fi Speakers</td>\n",
       "    </tr>\n",
       "    <tr>\n",
       "      <th>3</th>\n",
       "      <td>4</td>\n",
       "      <td>B09B8T5VGV</td>\n",
       "      <td>Echo Dot with clock (5th generation, 2022 rele...</td>\n",
       "      <td>4.7</td>\n",
       "      <td>7205</td>\n",
       "      <td>31.99</td>\n",
       "      <td>False</td>\n",
       "      <td>0</td>\n",
       "      <td>Hi-Fi Speakers</td>\n",
       "    </tr>\n",
       "  </tbody>\n",
       "</table>\n",
       "</div>"
      ],
      "text/plain": [
       "   uid        asin                                              title  stars  \\\n",
       "0    1  B09B96TG33  Echo Dot (5th generation, 2022 release) | Big ...    4.7   \n",
       "1    2  B01HTH3C8S  Anker Soundcore mini, Super-Portable Bluetooth...    4.7   \n",
       "2    3  B09B8YWXDF  Echo Dot (5th generation, 2022 release) | Big ...    4.7   \n",
       "3    4  B09B8T5VGV  Echo Dot with clock (5th generation, 2022 rele...    4.7   \n",
       "\n",
       "   reviews  price  isBestSeller  boughtInLastMonth        category  \n",
       "0    15308  21.99         False                  0  Hi-Fi Speakers  \n",
       "1    98099  23.99          True                  0  Hi-Fi Speakers  \n",
       "2    15308  21.99         False                  0  Hi-Fi Speakers  \n",
       "3     7205  31.99         False                  0  Hi-Fi Speakers  "
      ]
     },
     "execution_count": 3,
     "metadata": {},
     "output_type": "execute_result"
    }
   ],
   "source": [
    "df.head(4)"
   ]
  },
  {
   "cell_type": "markdown",
   "metadata": {},
   "source": [
    "Parte 1: Comprensión de las categorías de productos\n",
    "Pregunta comercial : ¿Cuáles son las categorías de productos más populares en Amazon Reino Unido y cómo se comparan en términos de frecuencia de publicación?\n",
    "\n",
    "1. Tablas de frecuencias :\n",
    "\n",
    "- Generar una tabla de frecuencias para el producto category."
   ]
  },
  {
   "cell_type": "code",
   "execution_count": 4,
   "metadata": {},
   "outputs": [
    {
     "data": {
      "text/plain": [
       "(category\n",
       " Sports & Outdoors                         836265\n",
       " Beauty                                     19312\n",
       " Handmade Clothing, Shoes & Accessories     19229\n",
       " Bath & Body                                19092\n",
       " Birthday Gifts                             18978\n",
       "                                            ...  \n",
       " Alexa Built-In Devices                       107\n",
       " Motorbike Chassis                            107\n",
       " Plugs                                        107\n",
       " Smart Home Security & Lighting               104\n",
       " Smart Speakers                                54\n",
       " Name: count, Length: 296, dtype: int64,\n",
       " category\n",
       " Sports & Outdoors                         0.342219\n",
       " Beauty                                    0.007903\n",
       " Handmade Clothing, Shoes & Accessories    0.007869\n",
       " Bath & Body                               0.007813\n",
       " Birthday Gifts                            0.007766\n",
       "                                             ...   \n",
       " Alexa Built-In Devices                    0.000044\n",
       " Motorbike Chassis                         0.000044\n",
       " Plugs                                     0.000044\n",
       " Smart Home Security & Lighting            0.000043\n",
       " Smart Speakers                            0.000022\n",
       " Name: proportion, Length: 296, dtype: float64)"
      ]
     },
     "execution_count": 4,
     "metadata": {},
     "output_type": "execute_result"
    }
   ],
   "source": [
    "frequency_table = df[\"category\"].value_counts()\n",
    "proportion_table = df[\"category\"].value_counts(normalize = True)   #NORMALIZE ES PARA QUE SALGA CON PORCENTAJE\n",
    "\n",
    "frequency_table, proportion_table\n"
   ]
  },
  {
   "cell_type": "markdown",
   "metadata": {},
   "source": [
    "- ¿Cuáles son las 5 categorías de productos más cotizadas?"
   ]
  },
  {
   "cell_type": "code",
   "execution_count": 5,
   "metadata": {},
   "outputs": [
    {
     "data": {
      "text/plain": [
       "category\n",
       "Sports & Outdoors                         836265\n",
       "Beauty                                     19312\n",
       "Handmade Clothing, Shoes & Accessories     19229\n",
       "Bath & Body                                19092\n",
       "Birthday Gifts                             18978\n",
       "Name: count, dtype: int64"
      ]
     },
     "execution_count": 5,
     "metadata": {},
     "output_type": "execute_result"
    }
   ],
   "source": [
    "top_5 = df[\"category\"].value_counts().head(5)\n",
    "top_5"
   ]
  },
  {
   "cell_type": "markdown",
   "metadata": {},
   "source": [
    "2. Visualizaciones :\n",
    "\n",
    "- Muestre la distribución de productos en diferentes categorías mediante un gráfico de barras. Si tiene problemas para comprender el gráfico, hágalo para un subconjunto de las categorías principales."
   ]
  },
  {
   "cell_type": "code",
   "execution_count": 6,
   "metadata": {},
   "outputs": [
    {
     "data": {
      "text/html": [
       "<div>\n",
       "<style scoped>\n",
       "    .dataframe tbody tr th:only-of-type {\n",
       "        vertical-align: middle;\n",
       "    }\n",
       "\n",
       "    .dataframe tbody tr th {\n",
       "        vertical-align: top;\n",
       "    }\n",
       "\n",
       "    .dataframe thead th {\n",
       "        text-align: right;\n",
       "    }\n",
       "</style>\n",
       "<table border=\"1\" class=\"dataframe\">\n",
       "  <thead>\n",
       "    <tr style=\"text-align: right;\">\n",
       "      <th></th>\n",
       "      <th>uid</th>\n",
       "      <th>asin</th>\n",
       "      <th>title</th>\n",
       "      <th>stars</th>\n",
       "      <th>reviews</th>\n",
       "      <th>price</th>\n",
       "      <th>isBestSeller</th>\n",
       "      <th>boughtInLastMonth</th>\n",
       "      <th>category</th>\n",
       "    </tr>\n",
       "  </thead>\n",
       "  <tbody>\n",
       "    <tr>\n",
       "      <th>82163</th>\n",
       "      <td>89483</td>\n",
       "      <td>B07DLGZ828</td>\n",
       "      <td>Neutrade GoPro 3M Sticky Pads Double Sided Adh...</td>\n",
       "      <td>4.2</td>\n",
       "      <td>3116</td>\n",
       "      <td>6.49</td>\n",
       "      <td>False</td>\n",
       "      <td>0</td>\n",
       "      <td>Sports &amp; Outdoors</td>\n",
       "    </tr>\n",
       "    <tr>\n",
       "      <th>82164</th>\n",
       "      <td>89484</td>\n",
       "      <td>B09HGZHXJT</td>\n",
       "      <td>WOLFANG Action Camera 4K 20MP GA100, Waterproo...</td>\n",
       "      <td>4.2</td>\n",
       "      <td>2594</td>\n",
       "      <td>49.99</td>\n",
       "      <td>False</td>\n",
       "      <td>0</td>\n",
       "      <td>Sports &amp; Outdoors</td>\n",
       "    </tr>\n",
       "    <tr>\n",
       "      <th>82165</th>\n",
       "      <td>89485</td>\n",
       "      <td>B08G2HBBB6</td>\n",
       "      <td>GoPro HERO9 - Waterproof Sports Camera with Fr...</td>\n",
       "      <td>4.5</td>\n",
       "      <td>5161</td>\n",
       "      <td>199.00</td>\n",
       "      <td>True</td>\n",
       "      <td>0</td>\n",
       "      <td>Sports &amp; Outdoors</td>\n",
       "    </tr>\n",
       "    <tr>\n",
       "      <th>82166</th>\n",
       "      <td>89486</td>\n",
       "      <td>B09D15SFMQ</td>\n",
       "      <td>GoPro HERO10 Black - Waterproof Action Camera ...</td>\n",
       "      <td>4.4</td>\n",
       "      <td>2467</td>\n",
       "      <td>249.99</td>\n",
       "      <td>False</td>\n",
       "      <td>0</td>\n",
       "      <td>Sports &amp; Outdoors</td>\n",
       "    </tr>\n",
       "    <tr>\n",
       "      <th>82167</th>\n",
       "      <td>89487</td>\n",
       "      <td>B08LD4VXGL</td>\n",
       "      <td>FitStill 60M/196FT Waterproof Case for Go Pro ...</td>\n",
       "      <td>4.5</td>\n",
       "      <td>9879</td>\n",
       "      <td>16.98</td>\n",
       "      <td>True</td>\n",
       "      <td>0</td>\n",
       "      <td>Sports &amp; Outdoors</td>\n",
       "    </tr>\n",
       "    <tr>\n",
       "      <th>...</th>\n",
       "      <td>...</td>\n",
       "      <td>...</td>\n",
       "      <td>...</td>\n",
       "      <td>...</td>\n",
       "      <td>...</td>\n",
       "      <td>...</td>\n",
       "      <td>...</td>\n",
       "      <td>...</td>\n",
       "      <td>...</td>\n",
       "    </tr>\n",
       "    <tr>\n",
       "      <th>2429088</th>\n",
       "      <td>2806950</td>\n",
       "      <td>B0045I6SHW</td>\n",
       "      <td>Cannondale Men's Bibshort Dart Team Bike Shorts</td>\n",
       "      <td>0.0</td>\n",
       "      <td>0</td>\n",
       "      <td>99.67</td>\n",
       "      <td>False</td>\n",
       "      <td>0</td>\n",
       "      <td>Sports &amp; Outdoors</td>\n",
       "    </tr>\n",
       "    <tr>\n",
       "      <th>2429089</th>\n",
       "      <td>2806951</td>\n",
       "      <td>B0045I6NZY</td>\n",
       "      <td>Cannondale Men's Baggy Fitness Bike Shorts</td>\n",
       "      <td>0.0</td>\n",
       "      <td>0</td>\n",
       "      <td>20.62</td>\n",
       "      <td>False</td>\n",
       "      <td>0</td>\n",
       "      <td>Sports &amp; Outdoors</td>\n",
       "    </tr>\n",
       "    <tr>\n",
       "      <th>2429090</th>\n",
       "      <td>2806952</td>\n",
       "      <td>B003BLON3A</td>\n",
       "      <td>Pearl iZUMi Men's Phase Splice Knicker</td>\n",
       "      <td>4.3</td>\n",
       "      <td>3</td>\n",
       "      <td>59.86</td>\n",
       "      <td>False</td>\n",
       "      <td>0</td>\n",
       "      <td>Sports &amp; Outdoors</td>\n",
       "    </tr>\n",
       "    <tr>\n",
       "      <th>2437153</th>\n",
       "      <td>2818782</td>\n",
       "      <td>B091HG57TP</td>\n",
       "      <td>Goodstoworld Boys Girls Tracksuit Bottoms 3D S...</td>\n",
       "      <td>4.2</td>\n",
       "      <td>554</td>\n",
       "      <td>14.99</td>\n",
       "      <td>False</td>\n",
       "      <td>0</td>\n",
       "      <td>Sports &amp; Outdoors</td>\n",
       "    </tr>\n",
       "    <tr>\n",
       "      <th>2437154</th>\n",
       "      <td>2818786</td>\n",
       "      <td>B09F8TFQDM</td>\n",
       "      <td>AIEOE Unisex Baby Snow Trousers Boys Girls Dow...</td>\n",
       "      <td>5.0</td>\n",
       "      <td>1</td>\n",
       "      <td>24.99</td>\n",
       "      <td>False</td>\n",
       "      <td>0</td>\n",
       "      <td>Sports &amp; Outdoors</td>\n",
       "    </tr>\n",
       "  </tbody>\n",
       "</table>\n",
       "<p>912876 rows × 9 columns</p>\n",
       "</div>"
      ],
      "text/plain": [
       "             uid        asin  \\\n",
       "82163      89483  B07DLGZ828   \n",
       "82164      89484  B09HGZHXJT   \n",
       "82165      89485  B08G2HBBB6   \n",
       "82166      89486  B09D15SFMQ   \n",
       "82167      89487  B08LD4VXGL   \n",
       "...          ...         ...   \n",
       "2429088  2806950  B0045I6SHW   \n",
       "2429089  2806951  B0045I6NZY   \n",
       "2429090  2806952  B003BLON3A   \n",
       "2437153  2818782  B091HG57TP   \n",
       "2437154  2818786  B09F8TFQDM   \n",
       "\n",
       "                                                     title  stars  reviews  \\\n",
       "82163    Neutrade GoPro 3M Sticky Pads Double Sided Adh...    4.2     3116   \n",
       "82164    WOLFANG Action Camera 4K 20MP GA100, Waterproo...    4.2     2594   \n",
       "82165    GoPro HERO9 - Waterproof Sports Camera with Fr...    4.5     5161   \n",
       "82166    GoPro HERO10 Black - Waterproof Action Camera ...    4.4     2467   \n",
       "82167    FitStill 60M/196FT Waterproof Case for Go Pro ...    4.5     9879   \n",
       "...                                                    ...    ...      ...   \n",
       "2429088    Cannondale Men's Bibshort Dart Team Bike Shorts    0.0        0   \n",
       "2429089         Cannondale Men's Baggy Fitness Bike Shorts    0.0        0   \n",
       "2429090             Pearl iZUMi Men's Phase Splice Knicker    4.3        3   \n",
       "2437153  Goodstoworld Boys Girls Tracksuit Bottoms 3D S...    4.2      554   \n",
       "2437154  AIEOE Unisex Baby Snow Trousers Boys Girls Dow...    5.0        1   \n",
       "\n",
       "          price  isBestSeller  boughtInLastMonth           category  \n",
       "82163      6.49         False                  0  Sports & Outdoors  \n",
       "82164     49.99         False                  0  Sports & Outdoors  \n",
       "82165    199.00          True                  0  Sports & Outdoors  \n",
       "82166    249.99         False                  0  Sports & Outdoors  \n",
       "82167     16.98          True                  0  Sports & Outdoors  \n",
       "...         ...           ...                ...                ...  \n",
       "2429088   99.67         False                  0  Sports & Outdoors  \n",
       "2429089   20.62         False                  0  Sports & Outdoors  \n",
       "2429090   59.86         False                  0  Sports & Outdoors  \n",
       "2437153   14.99         False                  0  Sports & Outdoors  \n",
       "2437154   24.99         False                  0  Sports & Outdoors  \n",
       "\n",
       "[912876 rows x 9 columns]"
      ]
     },
     "execution_count": 6,
     "metadata": {},
     "output_type": "execute_result"
    }
   ],
   "source": [
    "df_top = df[df[\"category\"].isin(top_5.index)]\n",
    "df_top"
   ]
  },
  {
   "cell_type": "code",
   "execution_count": 7,
   "metadata": {},
   "outputs": [
    {
     "data": {
      "text/plain": [
       "<Axes: xlabel='category', ylabel='Count'>"
      ]
     },
     "execution_count": 7,
     "metadata": {},
     "output_type": "execute_result"
    },
    {
     "data": {
      "image/png": "[encoded data removed]",
      "text/plain": [
       "<Figure size 640x480 with 1 Axes>"
      ]
     },
     "metadata": {},
     "output_type": "display_data"
    }
   ],
   "source": [
    "sns.histplot(df_top[\"category\"], kde = True, bins = 30, color = \"salmon\")"
   ]
  },
  {
   "cell_type": "markdown",
   "metadata": {},
   "source": [
    "Parte 2: Profundizando en el precio de los productos\n",
    "Pregunta comercial : ¿Cómo se fijan los precios de los productos en Amazon Reino Unido? ¿Hay puntos o rangos de precios específicos que sean más comunes?\n",
    "\n",
    "1. Medidas de centralidad :\n",
    "\n",
    "- Calcular la media, la mediana y la moda para los priceproductos."
   ]
  },
  {
   "cell_type": "code",
   "execution_count": 8,
   "metadata": {},
   "outputs": [
    {
     "data": {
      "text/html": [
       "<div>\n",
       "<style scoped>\n",
       "    .dataframe tbody tr th:only-of-type {\n",
       "        vertical-align: middle;\n",
       "    }\n",
       "\n",
       "    .dataframe tbody tr th {\n",
       "        vertical-align: top;\n",
       "    }\n",
       "\n",
       "    .dataframe thead th {\n",
       "        text-align: right;\n",
       "    }\n",
       "</style>\n",
       "<table border=\"1\" class=\"dataframe\">\n",
       "  <thead>\n",
       "    <tr style=\"text-align: right;\">\n",
       "      <th></th>\n",
       "      <th>uid</th>\n",
       "      <th>asin</th>\n",
       "      <th>title</th>\n",
       "      <th>stars</th>\n",
       "      <th>reviews</th>\n",
       "      <th>price</th>\n",
       "      <th>isBestSeller</th>\n",
       "      <th>boughtInLastMonth</th>\n",
       "      <th>category</th>\n",
       "    </tr>\n",
       "  </thead>\n",
       "  <tbody>\n",
       "    <tr>\n",
       "      <th>0</th>\n",
       "      <td>1</td>\n",
       "      <td>B09B96TG33</td>\n",
       "      <td>Echo Dot (5th generation, 2022 release) | Big ...</td>\n",
       "      <td>4.7</td>\n",
       "      <td>15308</td>\n",
       "      <td>21.99</td>\n",
       "      <td>False</td>\n",
       "      <td>0</td>\n",
       "      <td>Hi-Fi Speakers</td>\n",
       "    </tr>\n",
       "    <tr>\n",
       "      <th>1</th>\n",
       "      <td>2</td>\n",
       "      <td>B01HTH3C8S</td>\n",
       "      <td>Anker Soundcore mini, Super-Portable Bluetooth...</td>\n",
       "      <td>4.7</td>\n",
       "      <td>98099</td>\n",
       "      <td>23.99</td>\n",
       "      <td>True</td>\n",
       "      <td>0</td>\n",
       "      <td>Hi-Fi Speakers</td>\n",
       "    </tr>\n",
       "    <tr>\n",
       "      <th>2</th>\n",
       "      <td>3</td>\n",
       "      <td>B09B8YWXDF</td>\n",
       "      <td>Echo Dot (5th generation, 2022 release) | Big ...</td>\n",
       "      <td>4.7</td>\n",
       "      <td>15308</td>\n",
       "      <td>21.99</td>\n",
       "      <td>False</td>\n",
       "      <td>0</td>\n",
       "      <td>Hi-Fi Speakers</td>\n",
       "    </tr>\n",
       "    <tr>\n",
       "      <th>3</th>\n",
       "      <td>4</td>\n",
       "      <td>B09B8T5VGV</td>\n",
       "      <td>Echo Dot with clock (5th generation, 2022 rele...</td>\n",
       "      <td>4.7</td>\n",
       "      <td>7205</td>\n",
       "      <td>31.99</td>\n",
       "      <td>False</td>\n",
       "      <td>0</td>\n",
       "      <td>Hi-Fi Speakers</td>\n",
       "    </tr>\n",
       "    <tr>\n",
       "      <th>4</th>\n",
       "      <td>5</td>\n",
       "      <td>B09WX6QD65</td>\n",
       "      <td>Introducing Echo Pop | Full sound compact Wi-F...</td>\n",
       "      <td>4.6</td>\n",
       "      <td>1881</td>\n",
       "      <td>17.99</td>\n",
       "      <td>False</td>\n",
       "      <td>0</td>\n",
       "      <td>Hi-Fi Speakers</td>\n",
       "    </tr>\n",
       "  </tbody>\n",
       "</table>\n",
       "</div>"
      ],
      "text/plain": [
       "   uid        asin                                              title  stars  \\\n",
       "0    1  B09B96TG33  Echo Dot (5th generation, 2022 release) | Big ...    4.7   \n",
       "1    2  B01HTH3C8S  Anker Soundcore mini, Super-Portable Bluetooth...    4.7   \n",
       "2    3  B09B8YWXDF  Echo Dot (5th generation, 2022 release) | Big ...    4.7   \n",
       "3    4  B09B8T5VGV  Echo Dot with clock (5th generation, 2022 rele...    4.7   \n",
       "4    5  B09WX6QD65  Introducing Echo Pop | Full sound compact Wi-F...    4.6   \n",
       "\n",
       "   reviews  price  isBestSeller  boughtInLastMonth        category  \n",
       "0    15308  21.99         False                  0  Hi-Fi Speakers  \n",
       "1    98099  23.99          True                  0  Hi-Fi Speakers  \n",
       "2    15308  21.99         False                  0  Hi-Fi Speakers  \n",
       "3     7205  31.99         False                  0  Hi-Fi Speakers  \n",
       "4     1881  17.99         False                  0  Hi-Fi Speakers  "
      ]
     },
     "execution_count": 8,
     "metadata": {},
     "output_type": "execute_result"
    }
   ],
   "source": [
    "df.head()"
   ]
  },
  {
   "cell_type": "code",
   "execution_count": 11,
   "metadata": {},
   "outputs": [
    {
     "data": {
      "text/plain": [
       "89.24380943923663"
      ]
     },
     "execution_count": 11,
     "metadata": {},
     "output_type": "execute_result"
    }
   ],
   "source": [
    "df[\"price\"].mean()"
   ]
  },
  {
   "cell_type": "code",
   "execution_count": 12,
   "metadata": {},
   "outputs": [
    {
     "data": {
      "text/plain": [
       "19.09"
      ]
     },
     "execution_count": 12,
     "metadata": {},
     "output_type": "execute_result"
    }
   ],
   "source": [
    "df[\"price\"].median()"
   ]
  },
  {
   "cell_type": "code",
   "execution_count": 13,
   "metadata": {},
   "outputs": [
    {
     "data": {
      "text/plain": [
       "9.99"
      ]
     },
     "execution_count": 13,
     "metadata": {},
     "output_type": "execute_result"
    }
   ],
   "source": [
    "df[\"price\"].mode()[0]  #para obtener el precio mas frecuente como numero y no como lista"
   ]
  },
  {
   "cell_type": "markdown",
   "metadata": {},
   "source": [
    "- ¿Cuál es el precio promedio de los productos que se muestran en la lista? ¿Cómo se compara con el precio más común (moda)?"
   ]
  },
  {
   "cell_type": "code",
   "execution_count": 14,
   "metadata": {},
   "outputs": [
    {
     "data": {
      "text/plain": [
       "79.25380943923663"
      ]
     },
     "execution_count": 14,
     "metadata": {},
     "output_type": "execute_result"
    }
   ],
   "source": [
    "promedio = df[\"price\"].mean()\n",
    "moda = df[\"price\"].mode()[0]\n",
    "\n",
    "diferencia = promedio - moda\n",
    "diferencia"
   ]
  },
  {
   "cell_type": "markdown",
   "metadata": {},
   "source": [
    "2. Medidas de dispersión :\n",
    "\n",
    "- Determine la varianza, la desviación estándar, el rango y el rango intercuartil para el producto price."
   ]
  },
  {
   "cell_type": "code",
   "execution_count": 15,
   "metadata": {},
   "outputs": [
    {
     "data": {
      "text/plain": [
       "119445.48532256528"
      ]
     },
     "execution_count": 15,
     "metadata": {},
     "output_type": "execute_result"
    }
   ],
   "source": [
    "df[\"price\"].var()"
   ]
  },
  {
   "cell_type": "code",
   "execution_count": 16,
   "metadata": {},
   "outputs": [
    {
     "data": {
      "text/plain": [
       "345.60886175352226"
      ]
     },
     "execution_count": 16,
     "metadata": {},
     "output_type": "execute_result"
    }
   ],
   "source": [
    "df[\"price\"].std()"
   ]
  },
  {
   "cell_type": "code",
   "execution_count": 17,
   "metadata": {},
   "outputs": [
    {
     "data": {
      "text/plain": [
       "100000.0"
      ]
     },
     "execution_count": 17,
     "metadata": {},
     "output_type": "execute_result"
    }
   ],
   "source": [
    "minimo = df[\"price\"].min()\n",
    "maximo = df[\"price\"].max()\n",
    "rango = maximo - minimo\n",
    "rango"
   ]
  },
  {
   "cell_type": "code",
   "execution_count": 45,
   "metadata": {},
   "outputs": [
    {
     "data": {
      "text/plain": [
       "36.0"
      ]
     },
     "execution_count": 45,
     "metadata": {},
     "output_type": "execute_result"
    }
   ],
   "source": [
    "q1 = df[\"price\"].quantile(0.25)\n",
    "q3 = df[\"price\"].quantile(0.75)\n",
    "iqr = q3 - q1  #rango intercuartil\n",
    "iqr"
   ]
  },
  {
   "cell_type": "markdown",
   "metadata": {},
   "source": [
    "- ¿Qué tan variados son los precios de los productos? ¿Existen indicadores de una importante diferencia de precios?"
   ]
  },
  {
   "cell_type": "code",
   "execution_count": 20,
   "metadata": {},
   "outputs": [
    {
     "data": {
      "image/png": "[encoded data removed]",
      "text/plain": [
       "<Figure size 640x480 with 1 Axes>"
      ]
     },
     "metadata": {},
     "output_type": "display_data"
    }
   ],
   "source": [
    "# Gráfico de caja (boxplot) para visualizar la dispersión y posibles outliers\n",
    "sns.boxplot(x = df['price'])\n",
    "plt.title('Distribución de Precios de Productos')\n",
    "plt.show()"
   ]
  },
  {
   "cell_type": "markdown",
   "metadata": {},
   "source": [
    "3. Visualizaciones :\n",
    "\n",
    "- ¿Existe un rango de precios específico en el que se encuentran la mayoría de los productos? Dibuje un histograma para visualizar la distribución de los precios de los productos. Si le resulta difícil leer estos diagramas, piense por qué es así y explique cómo se podría resolver ."
   ]
  },
  {
   "cell_type": "code",
   "execution_count": 24,
   "metadata": {},
   "outputs": [
    {
     "data": {
      "image/png": "[encoded data removed]",
      "text/plain": [
       "<Figure size 1000x600 with 1 Axes>"
      ]
     },
     "metadata": {},
     "output_type": "display_data"
    }
   ],
   "source": [
    "# Filtrar para excluir los precios muy altos\n",
    "df_sin_outliers = df[df['price'] < 8000]\n",
    "\n",
    "# Histograma sin los outliers\n",
    "plt.figure(figsize=(10, 6))\n",
    "plt.hist(df_sin_outliers['price'], bins=20, color='skyblue', edgecolor='black')\n",
    "plt.title('Distribución de Precios de Productos (sin outliers)')\n",
    "plt.xlabel('Precio')\n",
    "plt.ylabel('Frecuencia')\n",
    "plt.grid(True)\n",
    "plt.show()\n",
    "\n"
   ]
  },
  {
   "cell_type": "code",
   "execution_count": 22,
   "metadata": {},
   "outputs": [
    {
     "data": {
      "image/png": "[encoded data removed]",
      "text/plain": [
       "<Figure size 1000x600 with 1 Axes>"
      ]
     },
     "metadata": {},
     "output_type": "display_data"
    }
   ],
   "source": [
    "plt.figure(figsize=(10, 6))\n",
    "plt.hist(df['price'], bins=20, color='skyblue', edgecolor='black', log=True)\n",
    "plt.title('Distribución de Precios de Productos (escala logarítmica)')\n",
    "plt.xlabel('Precio (log)')\n",
    "plt.ylabel('Frecuencia')\n",
    "plt.grid(True)\n",
    "plt.show()\n"
   ]
  },
  {
   "cell_type": "markdown",
   "metadata": {},
   "source": [
    "- ¿Hay productos cuyo precio es significativamente más alto que el resto? Utilice un diagrama de cajas para mostrar la diferencia y los posibles valores atípicos en los precios de los productos."
   ]
  },
  {
   "cell_type": "code",
   "execution_count": 29,
   "metadata": {},
   "outputs": [
    {
     "data": {
      "text/plain": [
       "<Axes: ylabel='price'>"
      ]
     },
     "execution_count": 29,
     "metadata": {},
     "output_type": "execute_result"
    },
    {
     "data": {
      "image/png": "[encoded data removed]",
      "text/plain": [
       "<Figure size 640x480 with 1 Axes>"
      ]
     },
     "metadata": {},
     "output_type": "display_data"
    }
   ],
   "source": [
    "sns.boxplot(data = df[\"price\"], color= \"lightblue\")"
   ]
  },
  {
   "cell_type": "markdown",
   "metadata": {},
   "source": [
    "Parte 3: Análisis de las calificaciones de productos\n",
    "Pregunta comercial : ¿Cómo califican los clientes los productos en Amazon Reino Unido? ¿Existen patrones o tendencias en las calificaciones?\n",
    "\n",
    "1. Medidas de centralidad :\n",
    "\n",
    "- Calcular la media, la mediana y la moda para los rating productos."
   ]
  },
  {
   "cell_type": "code",
   "execution_count": 32,
   "metadata": {},
   "outputs": [
    {
     "data": {
      "text/plain": [
       "2.152836472966065"
      ]
     },
     "execution_count": 32,
     "metadata": {},
     "output_type": "execute_result"
    }
   ],
   "source": [
    "df[\"stars\"].mean()"
   ]
  },
  {
   "cell_type": "code",
   "execution_count": 33,
   "metadata": {},
   "outputs": [
    {
     "data": {
      "text/plain": [
       "0.0"
      ]
     },
     "execution_count": 33,
     "metadata": {},
     "output_type": "execute_result"
    }
   ],
   "source": [
    "df[\"stars\"].median()"
   ]
  },
  {
   "cell_type": "code",
   "execution_count": 37,
   "metadata": {},
   "outputs": [
    {
     "data": {
      "text/plain": [
       "0.0"
      ]
     },
     "execution_count": 37,
     "metadata": {},
     "output_type": "execute_result"
    }
   ],
   "source": [
    "df[\"stars\"].mode()[0]"
   ]
  },
  {
   "cell_type": "markdown",
   "metadata": {},
   "source": [
    "- ¿Cómo califican los clientes los productos en general? ¿Existe una tendencia común?\n"
   ]
  },
  {
   "cell_type": "markdown",
   "metadata": {},
   "source": [
    "2. Medidas de dispersión :\n",
    "\n",
    "- Determine la varianza, la desviación estándar y el rango intercuartil para el producto rating.\n"
   ]
  },
  {
   "cell_type": "code",
   "execution_count": 42,
   "metadata": {},
   "outputs": [
    {
     "data": {
      "text/plain": [
       "4.81743402976196"
      ]
     },
     "execution_count": 42,
     "metadata": {},
     "output_type": "execute_result"
    }
   ],
   "source": [
    "df[\"stars\"].var()"
   ]
  },
  {
   "cell_type": "code",
   "execution_count": 43,
   "metadata": {},
   "outputs": [
    {
     "data": {
      "text/plain": [
       "2.1948653785054697"
      ]
     },
     "execution_count": 43,
     "metadata": {},
     "output_type": "execute_result"
    }
   ],
   "source": [
    "df[\"stars\"].std()"
   ]
  },
  {
   "cell_type": "code",
   "execution_count": 44,
   "metadata": {},
   "outputs": [
    {
     "data": {
      "text/plain": [
       "4.4"
      ]
     },
     "execution_count": 44,
     "metadata": {},
     "output_type": "execute_result"
    }
   ],
   "source": [
    "q1 = df[\"stars\"].quantile(0.25)\n",
    "q3 = df[\"stars\"].quantile(0.75)\n",
    "iqr = q3 - q1  #rango intercuartil\n",
    "iqr"
   ]
  },
  {
   "cell_type": "markdown",
   "metadata": {},
   "source": [
    "- ¿Son consistentes las calificaciones o hay una amplia variación en los comentarios de los clientes?"
   ]
  },
  {
   "cell_type": "code",
   "execution_count": null,
   "metadata": {},
   "outputs": [],
   "source": [
    "#La combinación de una varianza y una desviación estándar altas, junto con un IQR significativo, \n",
    "# sugiere que hay una amplia variación en las calificaciones de los productos. \n",
    "# Esto significa que las experiencias de los clientes son muy diversas"
   ]
  },
  {
   "cell_type": "markdown",
   "metadata": {},
   "source": [
    "3. Forma de la distribución :\n",
    "\n",
    "- Calcular la asimetría y la curtosis de la rating columna.\n"
   ]
  },
  {
   "cell_type": "code",
   "execution_count": 47,
   "metadata": {},
   "outputs": [
    {
     "data": {
      "text/plain": [
       "0.08120735761080985"
      ]
     },
     "execution_count": 47,
     "metadata": {},
     "output_type": "execute_result"
    }
   ],
   "source": [
    "#Skewness\n",
    "skewness_price = df[\"stars\"].skew()\n",
    "skewness_price"
   ]
  },
  {
   "cell_type": "code",
   "execution_count": 48,
   "metadata": {},
   "outputs": [
    {
     "data": {
      "text/plain": [
       "-1.9260061280432985"
      ]
     },
     "execution_count": 48,
     "metadata": {},
     "output_type": "execute_result"
    }
   ],
   "source": [
    "kurtosis_price = df[\"stars\"].kurtosis()\n",
    "kurtosis_price"
   ]
  },
  {
   "cell_type": "markdown",
   "metadata": {},
   "source": [
    "- ¿Las calificaciones se distribuyen normalmente o tienden hacia valores más altos o más bajos?"
   ]
  },
  {
   "cell_type": "code",
   "execution_count": 49,
   "metadata": {},
   "outputs": [],
   "source": [
    "#No hay un sesgo significativo en las calificaciones hacia valores bajos o altos.\n",
    "#Kurtosis negativa: Esto puede ser indicativo de que la mayoría de las calificaciones están más concentradas en el rango medio\n",
    "\n",
    "#La combinación de una asimetría cercana a 0 y una curtosis negativa indica que, \n",
    "# aunque hay una amplia variación en las calificaciones (como se dedujo de las medidas de dispersión), \n",
    "# la distribución en sí no está sesgada hacia un extremo y tiene colas más ligeras"
   ]
  }
 ],
 "metadata": {
  "kernelspec": {
   "display_name": "base",
   "language": "python",
   "name": "python3"
  },
  "language_info": {
   "codemirror_mode": {
    "name": "ipython",
    "version": 3
   },
   "file_extension": ".py",
   "mimetype": "text/x-python",
   "name": "python",
   "nbconvert_exporter": "python",
   "pygments_lexer": "ipython3",
   "version": "3.12.4"
  }
 },
 "nbformat": 4,
 "nbformat_minor": 2
}
